{
 "cells": [
  {
   "cell_type": "code",
   "execution_count": 1,
   "metadata": {},
   "outputs": [],
   "source": [
    "import pandas as pd\n",
    "import numpy as np\n",
    "from openpyxl import Workbook"
   ]
  },
  {
   "cell_type": "code",
   "execution_count": 2,
   "metadata": {},
   "outputs": [],
   "source": [
    "\n",
    "dpdata = pd.read_excel(r'C:\\Users\\UNOCC-data\\Downloads\\DiplomaticPulseIsraelPalestineFrom07Oct2023.xlsx', sheet_name='Sheet1')"
   ]
  },
  {
   "cell_type": "code",
   "execution_count": 3,
   "metadata": {},
   "outputs": [],
   "source": [
    "def clean_text(text):\n",
    "    if text:\n",
    "        # Replace tab characters with spaces\n",
    "        text = text.replace('\\t', ' ')\n",
    "        \n",
    "        # Split the text into lines, remove empty lines, and strip leading/trailing whitespaces\n",
    "        cleaned_lines = [line.strip() for line in text.split('\\n') if line.strip()]\n",
    "        cleaned_text = ' '.join(cleaned_lines)\n",
    "        return cleaned_text\n",
    "    else:\n",
    "        return text"
   ]
  },
  {
   "cell_type": "code",
   "execution_count": 7,
   "metadata": {},
   "outputs": [],
   "source": [
    "dpdata['cleaned_statement'] = dpdata['statement'].apply(clean_text)\n",
    "#dpdata.iloc[1]['cleaned_statement']"
   ]
  },
  {
   "cell_type": "code",
   "execution_count": 8,
   "metadata": {},
   "outputs": [],
   "source": [
    "from googletrans import Translator\n",
    "from langdetect import detect\n",
    "\n",
    "\n",
    "def translate_text(text, target_lang='en'):\n",
    "    #print (len(text))\n",
    "    if text is not None:\n",
    "        if len(text) <= 5000:\n",
    "            source_lang = detect(text)\n",
    "            \n",
    "            if source_lang:\n",
    "                translator = Translator()\n",
    "                translated = translator.translate(text, src=source_lang, dest=target_lang)\n",
    "                return translated.text\n",
    "        elif len(text) >5000:\n",
    "            source_lang = detect(text)\n",
    "            if source_lang:\n",
    "                translator = Translator()\n",
    "                chunk_size =4500\n",
    "                # Split the text into chunks of the specified size\n",
    "                text_chunks = [text[i:i + chunk_size] for i in range(0, len(text), chunk_size)]\n",
    "\n",
    "                # Translate each chunk and store the translations\n",
    "                translated_chunks = [translator.translate(chunk, src=source_lang, dest=target_lang).text for chunk in text_chunks]\n",
    "\n",
    "                # Combine the translated chunks to get the full translated text\n",
    "                translated_text = ' '.join(translated_chunks)\n",
    "                return translated_text\n",
    "\n",
    "    return text    # Return the original text for None or empty values\n"
   ]
  },
  {
   "cell_type": "code",
   "execution_count": 9,
   "metadata": {},
   "outputs": [],
   "source": [
    "dpdata['translated_statement'] = dpdata.apply(lambda row: translate_text(row['cleaned_statement']) if row['language'] != 'English' else row['cleaned_statement'], axis=1)"
   ]
  },
  {
   "cell_type": "code",
   "execution_count": 36,
   "metadata": {},
   "outputs": [
    {
     "data": {
      "text/plain": [
       "0      The EU foreign ministers affirmed their comple...\n",
       "1      I acknowledge the traditional owners of this l...\n",
       "2      On 9 and 10 October 2023, the Ambassador-at-La...\n",
       "3      Thank you High Commissioner for the presentati...\n",
       "4      United States Mission to the United Nations Of...\n",
       "                             ...                        \n",
       "261    The White House 1600 Pennsylvania Ave NW Washi...\n",
       "262    The current situation of Malaysian citizens in...\n",
       "263    Israel has the right to defend itself, and not...\n",
       "264    Home & GT;News & GT;Foreign Ministry receives ...\n",
       "265    I know that this is the last of your big tour ...\n",
       "Name: translated_statement, Length: 266, dtype: object"
      ]
     },
     "execution_count": 36,
     "metadata": {},
     "output_type": "execute_result"
    }
   ],
   "source": [
    "#dpdata['translated_statement']"
   ]
  },
  {
   "cell_type": "code",
   "execution_count": 10,
   "metadata": {},
   "outputs": [],
   "source": [
    "writer = pd.ExcelWriter('translated-Israel-oPt.xlsx', engine='openpyxl')\n",
    "dpdata.to_excel(writer, sheet_name='Main', index=False)\n",
    "writer.book.save('translated-Israel-oPt.xlsx')"
   ]
  }
 ],
 "metadata": {
  "kernelspec": {
   "display_name": "Python 3",
   "language": "python",
   "name": "python3"
  },
  "language_info": {
   "codemirror_mode": {
    "name": "ipython",
    "version": 3
   },
   "file_extension": ".py",
   "mimetype": "text/x-python",
   "name": "python",
   "nbconvert_exporter": "python",
   "pygments_lexer": "ipython3",
   "version": "3.11.4"
  }
 },
 "nbformat": 4,
 "nbformat_minor": 2
}
